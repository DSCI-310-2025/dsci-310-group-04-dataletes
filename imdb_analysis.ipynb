{
 "cells": [
  {
   "cell_type": "markdown",
   "id": "e98b6047-da65-40b7-a9bc-c8ab888ad21d",
   "metadata": {},
   "source": [
    "# Rolling Stones Weeks on Billboard"
   ]
  },
  {
   "cell_type": "markdown",
   "id": "94ebc772-e13c-4bcd-9d71-8d6864dceb68",
   "metadata": {},
   "source": [
    "## Summary\n",
    "This study aims to develop a regression model to predict how long an album remains on the Billboard charts based on album metadata, rankings, and streaming popularity. The dataset, which integrates Rolling Stone’s \"500 Greatest Albums of All Time\" rankings (2003, 2012, 2020) with Billboard chart performance metrics, provides insights into the factors that drive long-term music success."
   ]
  },
  {
   "cell_type": "markdown",
   "id": "33de75f2-f8f2-40c6-a5cc-bd0936eeadf5",
   "metadata": {},
   "source": [
    "## Introduction:\n",
    "The Billboard Hot 100 and Billboard 200 are widely regarded as the music industry's standard rankings, influencing radio playlists, streaming recommendations, and album sales. Billboard rankings are determined by a weighted formula incorporating sales (physical & digital), radio airplay, and streaming data (Tune My Music, 2023).\n",
    "\n",
    "Our question for this analysis is: \n",
    "**Can we build a regression model to predict how long an album will stay on the Billboard charts based on its characteristics?**\n",
    "\n",
    "By analyzing historical Billboard chart performance and album attributes, this project seeks to identify key factors influencing chart longevity. This research has practical applications for:\n",
    "\n",
    "- **Artists & Labels** – Helping them understand what contributes to an album’s success.\n",
    "- **Streaming & Marketing Team** – Allowing them to tailor promotional strategies.\n",
    "- **Music Analysts** – Providing data-driven insights into evolving music industry trends.\n",
    "\n",
    "### Data: \n",
    "\n"
   ]
  },
  {
   "cell_type": "markdown",
   "id": "96396ba3-13bf-49bf-9f6f-d6dadd8ba7fc",
   "metadata": {},
   "source": [
    "## Methods & Results:\n",
    "describe in written english the methods you used to perform your analysis from beginning to end that narrates the code the does the analysis.\n",
    "your report should include code which:\n",
    "- loads data from the original source on the web\n",
    "- wrangles and cleans the data from it’s original (downloaded) format to the format necessary for the planned classification or clustering analysis\n",
    "- performs a summary of the data set that is relevant for exploratory data analysis related to the planned classification analysis\n",
    "- creates a visualization of the dataset that is relevant for exploratory data analysis related to the planned classification analysis\n",
    "- performs classification or regression analysis\n",
    "- creates a visualization of the result of the analysis\n",
    "note: all tables and figure should have a figure/table number and a legend"
   ]
  },
  {
   "cell_type": "markdown",
   "id": "8f6238a8-e674-443a-bfa9-76f0f0aa83fe",
   "metadata": {},
   "source": [
    "## Discussion:\n",
    "- summarize what you found\n",
    "- discuss whether this is what you expected to find?\n",
    "- discuss what impact could such findings have?\n",
    "- discuss what future questions could this lead to?"
   ]
  },
  {
   "cell_type": "markdown",
   "id": "f4f50578-a505-4d95-bf0f-6cd16e6867b4",
   "metadata": {},
   "source": [
    "## References:\n",
    "\n",
    "\n",
    "DeAmon, M. 2022. *Predicting and composing a top ten Billboard Hot 100 single with descriptive analytics and classification.* Bowling Green State University. [https://scholarworks.bgsu.edu/honorsprojects/701](https://scholarworks.bgsu.edu/honorsprojects/701).  \n",
    "\n",
    "Inside The Industry. 2023. *How do Billboard charts work? The Hot 100 explained.* Inside The Industry. [https://insidetheindustrycom.wordpress.com/2023/04/21/how-do-billboard-charts-work-the-hot-100-explained/](https://insidetheindustrycom.wordpress.com/2023/04/21/how-do-billboard-charts-work-the-hot-100-explained/).  \n",
    "\n",
    "R for Data Science (R4DS) Online Learning Community. 2024. *TidyTuesday: Rolling Stone album rankings dataset.* GitHub. [https://github.com/rfordatascience/tidytuesday/blob/main/data/2024/2024-05-07/readme.md](https://github.com/rfordatascience/tidytuesday/blob/main/data/2024/2024-05-07/readme.md).  \n",
    "\n",
    "Tune My Music. 2023. *Billboard Top 100 Chart: What is it, how is it calculated, and how to access it.* Tune My Music Blog. [https://blog.tunemymusic.com/billboard-top-100-chart-what-is-it-how-is-it-calculated-and-how-to-access-it/](https://blog.tunemymusic.com/billboard-top-100-chart-what-is-it-how-is-it-calculated-and-how-to-access-it/).  \n"
   ]
  },
  {
   "cell_type": "code",
   "execution_count": null,
   "id": "a978a59b-52bd-475c-8fb5-94bf7a7099af",
   "metadata": {},
   "outputs": [],
   "source": []
  }
 ],
 "metadata": {
  "kernelspec": {
   "display_name": "R",
   "language": "R",
   "name": "ir"
  },
  "language_info": {
   "codemirror_mode": "r",
   "file_extension": ".r",
   "mimetype": "text/x-r-source",
   "name": "R",
   "pygments_lexer": "r",
   "version": "4.4.1"
  }
 },
 "nbformat": 4,
 "nbformat_minor": 5
}
